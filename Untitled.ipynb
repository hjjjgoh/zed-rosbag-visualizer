{
 "cells": [
  {
   "cell_type": "code",
   "execution_count": 1,
   "id": "d27f930b",
   "metadata": {},
   "outputs": [
    {
     "name": "stdout",
     "output_type": "stream",
     "text": [
      "Project root added to path: c:\\Users\\KIST\n"
     ]
    }
   ],
   "source": [
    "import sys\n",
    "import os\n",
    "\n",
    "# notebooks 폴더의 상위 폴더(프로젝트 루트)를 경로에 추가합니다.\n",
    "project_root = os.path.abspath(os.path.join(os.getcwd(), '..'))\n",
    "if project_root not in sys.path:\n",
    "    sys.path.insert(0, project_root)\n",
    "\n",
    "print(f\"Project root added to path: {project_root}\")\n"
   ]
  },
  {
   "cell_type": "code",
   "execution_count": null,
   "id": "df0c6c3b",
   "metadata": {},
   "outputs": [],
   "source": [
    "from pathlib import Path\n",
    "from site import check_enableusersite\n",
    "\n",
    "import numpy as np\n",
    "import matplotlib.pyplot as plt\n",
    "import cv2\n",
    "import rerun as rr\n",
    "from rosbags.rosbag2 import Reader\n",
    "from rosbags.serde import deserialize_cdr\n",
    "from src.intrinsic_parameter import check_rosbag_path, get_camera_parameter\n",
    "from src.rerun_blueprint import setup_rerun_blueprint, log_description\n",
    "\n"
   ]
  },
  {
   "cell_type": "code",
   "execution_count": 7,
   "id": "85544e9b",
   "metadata": {},
   "outputs": [],
   "source": [
    "def remove_nan(pts, remove_nans=True):\n",
    "    \"\"\" 포인트 클라우드 inf/nan 제거 \"\"\"\n",
    "    if remove_nans:\n",
    "        # Check for both NaN & infinite values\n",
    "        pts = pts[np.isfinite(pts).all(axis=1)]\n",
    "    return pts\n"
   ]
  },
  {
   "cell_type": "code",
   "execution_count": null,
   "id": "ecf97c44",
   "metadata": {},
   "outputs": [],
   "source": [
    "def rotate_pointcloud(pts):\n",
    "    \"\"\"x축 기준 -90도 회전, y축 기준 +90도 회전 \"\"\"\n",
    "    R = np.array([\n",
    "        [0, 0, 1], \n",
    "        [-1, 0, 0], \n",
    "        [0, -1, 0]\n",
    "        ], dtype=np.float32) \n",
    "    \n",
    "    # rectified pointclouds\n",
    "    pts_rct = pts @ R\n",
    "    return pts_rct"
   ]
  },
  {
   "cell_type": "code",
   "execution_count": null,
   "id": "56f8a8d8",
   "metadata": {},
   "outputs": [],
   "source": [
    "def pointcloud2_to_xyz_numpy(msg):\n",
    "    \"\"\" pointcloud2 to numpy array \"\"\"\n",
    "    def field_offset(name):\n",
    "    # find offset\n",
    "        for f in msg.fields:\n",
    "            if f.name == name:\n",
    "                return f.offset\n",
    "        raise KeyError(f\"field '{name}' not found\")\n",
    "\n",
    "    # pointcloud => numpy array\n",
    "    # msg.fields에서 x/y/z의 offset을 찾기 > 각 포인트의 step을 이용해 바이트 버퍼 해석\n",
    "    off_x = field_offset('x'); off_y = field_offset('y'); off_z = field_offset('z') # point data byte array\n",
    "    step = msg.point_step # num of byte\n",
    "    n = len(msg.data) // step # num of points\n",
    "    buf = np.frombuffer(msg.data, dtype=np.uint8).reshape(n, step) # point data byte array\n",
    "\n",
    "    # little-endian float32 / 4byte 부동소수점 숫자로 해석 \n",
    "    x = buf[:, off_x:off_x+4].view('<f4').reshape(-1)  \n",
    "    y = buf[:, off_y:off_y+4].view('<f4').reshape(-1)\n",
    "    z = buf[:, off_z:off_z+4].view('<f4').reshape(-1)\n",
    "    pts_xyz = np.column_stack((x, y, z))\n",
    "    pts_xyz = remove_nan(pts_xyz, remove_nans=True)\n",
    "\n",
    "    return pts_xyz"
   ]
  },
  {
   "cell_type": "code",
   "execution_count": null,
   "id": "35b0d576",
   "metadata": {},
   "outputs": [],
   "source": [
    "def rgb_to_numpy(msg):\n",
    "    \"\"\" rgb to numpy array \"\"\"\n",
    "    def field_offset(name):\n",
    "    # find offset\n",
    "        for f in msg.fields:\n",
    "            if f.name == name:\n",
    "                return f.offset\n",
    "        raise KeyError(f\"field '{name}' not found\")\n",
    "    \n",
    "\n",
    "    off_rgb = field_offset('rgb') # point data byte array\n",
    "    step = msg.point_step # num of byte\n",
    "    n = len(msg.data) // step # num of points\n",
    "    buf = np.frombuffer(msg.data, dtype=np.uint8).reshape(n, step) # point data byte array\n",
    "    rgb_u8 = buf[:, off_rgb:off_rgb+3] \n",
    "    \n",
    "    b = rgb_u8[:, 0].astype(np.uint8)\n",
    "    g = rgb_u8[:, 1].astype(np.uint8)\n",
    "    r = rgb_u8[:, 2].astype(np.uint8)\n",
    "    colors = np.stack([r, g, b], axis=1)\n",
    "    \n",
    "    return colors"
   ]
  },
  {
   "cell_type": "code",
   "execution_count": null,
   "id": "0650cf51",
   "metadata": {},
   "outputs": [],
   "source": [
    "def color_pointcloud_depthmap(pts: np.ndarray):\n",
    "    \"\"\" point - rgb color match/ 포인트 원본 순서 유지한 상태에서 \"\"\""
   ]
  },
  {
   "cell_type": "code",
   "execution_count": null,
   "id": "a79f0b0e",
   "metadata": {},
   "outputs": [],
   "source": [
    "# extract intrinsic parameter of zed camera manually\n",
    "def get_camera_parameter(bag_path: Path, camera_info_topic: str):\n",
    "    TOPIC = camera_info_topic\n",
    " \n",
    "    if not check_rosbag_path(bag_path) :\n",
    "        return\n",
    "    \n",
    "    with Reader(bag_path) as reader:\n",
    "        conns = [c for c in reader.connections \n",
    "                if c.topic == TOPIC and c.msgtype == \"sensor_msgs/msg/CameraInfo\"]\n",
    "        for conn, timestamp, rawdata in reader.messages(conns):\n",
    "            msg = deserialize_cdr(rawdata, conn.msgtype)\n",
    "            break  # 첫 메시지 하나만 읽고 종료\n",
    "    \n",
    "    K = np.array(msg.k).reshape(3, 3)\n",
    "    width = msg.width\n",
    "    height = msg.height \n",
    "    cx, cy = K[0, 2], K[1, 2]\n",
    "    fx, fy = K[0, 0], K[1, 1]\n",
    "\n",
    "    print( width, height, cx, cy, fx, fy)"
   ]
  },
  {
   "cell_type": "code",
   "execution_count": null,
   "id": "ced7a21d",
   "metadata": {},
   "outputs": [],
   "source": [
    "\"\"\" x, y, z 값이 어떻게 나오는지 확인 \"\"\"\n",
    "\"\"\" rgb 값이 어떻게 나오는지 확인하기 위한 용도\"\"\"\n",
    "def run(bag_path: Path, config: dict):\n",
    "    # 설정 파일에서 토픽 이름 가져오기\n",
    "    image_topic = config[\"ros_topics\"][\"image\"]\n",
    "    depth_topic = config[\"ros_topics\"][\"depth\"]\n",
    "    camera_info_topic = config[\"ros_topics\"][\"camera_left_info\"]\n",
    "    point_cloud_topic = config[\"ros_topics\"][\"point_cloud\"]\n",
    "    \n",
    "    # 설정 파일에서 시각화 파라미터 가져오기\n",
    "    point_radius = config[\"visualization\"][\"point_radius\"]\n",
    "    app_id = f\"zed_viewer_{bag_path.name}\"\n",
    "\n",
    "    with Reader(bag_path) as reader:\n",
    "        # conns 리스트 생성 시 설정값 사용\n",
    "        topics_to_read = [image_topic, depth_topic, point_cloud_topic]\n",
    "        conns = [c for c in reader.connections if c.topic in topics_to_read]\n",
    "        \n",
    "        for conn, timestamp, rawdata in reader.messages(conns):\n",
    "            msg = deserialize_cdr(rawdata, conn.msgtype)\n",
    "            # pointcloud data logging\n",
    "            if conn.topic == point_cloud_topic:\n",
    "                \n",
    "                # 메시지에 기록된 실제 해상도를 출력합니다.\n",
    "                actual_width = msg.width\n",
    "                actual_height = msg.height\n",
    "                pts = pointcloud2_to_xyz_numpy(msg)\n",
    "                \n",
    "                if pts.size:\n",
    "                    pts = rotate_pointcloud(pts) \n",
    "                    colors = rgb_to_numpy(msg)\n",
    "                    # 포인트 클라우드의 전체 포인트 개수를 출력합니다.\n",
    "                    print(f\"이 메시지에 포함된 유효한 포인트의 개수: {len(pts)} 개\") # 108339개\n",
    "                    print(len(colors))\n",
    "                \n",
    "                    break # 첫 번째 포인트 클라우드 메시지만 처리하고 루프를 중단합니다."
   ]
  },
  {
   "cell_type": "code",
   "execution_count": null,
   "id": "cc28c8a6",
   "metadata": {},
   "outputs": [
    {
     "name": "stdout",
     "output_type": "stream",
     "text": [
      "Project root added to path: c:\\Users\\KIST\\zed-rosbag-visualizer\n",
      "이 메시지에 포함된 유효한 포인트의 개수: 104370 개\n",
      "114688\n"
     ]
    },
    {
     "name": "stderr",
     "output_type": "stream",
     "text": [
      "C:\\Users\\KIST\\AppData\\Local\\Temp\\ipykernel_14700\\2756479138.py:20: DeprecationWarning: Global serialization/deserialization functions have been replaced with\n",
      "explicit typestores.\n",
      "\n",
      "If you are deserializing messages from an AnyReader instance, simply\n",
      "use its `.deserialize(data, typename)` method.\n",
      "\n",
      "Otherwise instantiate a type store and use its methods:\n",
      "\n",
      "from rosbags.typesys import Stores, get_typestore\n",
      "\n",
      "typestore = get_typestore(Stores.ROS2_FOXY)\n",
      "typestore.deserialize_cdr(data, typename)\n",
      "  msg = deserialize_cdr(rawdata, conn.msgtype)\n"
     ]
    }
   ],
   "source": [
    "project_root = Path.cwd()\n",
    "\n",
    "if str(project_root) not in sys.path:\n",
    "    sys.path.insert(0, str(project_root))\n",
    "\n",
    "print(f\"Project root added to path: {project_root}\")\n",
    "\n",
    "import argparse\n",
    "import yaml  \n",
    "\n",
    "def main():\n",
    "    bag_path_str = \"C:/rosbag2_2\"  # 실제 rosbag 경로를 입력\n",
    "    config_path_str = \"config.yaml\"\n",
    "\n",
    "    bag_path = Path(bag_path_str)\n",
    "    config_path = Path(config_path_str)\n",
    "\n",
    "    # 설정 파일을 직접 읽어옵니다.\n",
    "    with open(config_path, 'r', encoding='utf-8') as f:\n",
    "        config = yaml.safe_load(f)\n",
    "\n",
    "    run(bag_path, config)\n",
    "main()"
   ]
  },
  {
   "cell_type": "code",
   "execution_count": 11,
   "id": "b0916c9a",
   "metadata": {},
   "outputs": [],
   "source": [
    "def color_pointcloud_depthmap(pts: np.ndarray):\n",
    "    # point - color match/ 포인트 원본 순서 유지한 상태에서\n",
    "    depth = pts[:, 2]\n",
    "\n",
    "    if depth.size == 0:\n",
    "        return np.array([], dtype=np.uint8)\n",
    "\n",
    "    d_min = depth.min()\n",
    "    d_max = depth.max()\n",
    "\n",
    "    if d_max == d_min:\n",
    "        normalized_d = np.zeros_like(depth)\n",
    "    else:\n",
    "        # normalization\n",
    "        normalized_d = (depth - d_min) / (d_max - d_min)\n",
    "\n",
    "    cmap = plt.get_cmap(\"jet\")  # 가까운 것: 빨강, 먼 것: 파랑\n",
    "    colors_float = cmap(normalized_d)[:, :3] # cmap (R,G,B,A) > (R,G,B)\n",
    "    return (colors_float * 255).astype(np.uint8) # 0~255 범위의 정수형\n"
   ]
  }
 ],
 "metadata": {
  "kernelspec": {
   "display_name": ".venv",
   "language": "python",
   "name": "python3"
  },
  "language_info": {
   "codemirror_mode": {
    "name": "ipython",
    "version": 3
   },
   "file_extension": ".py",
   "mimetype": "text/x-python",
   "name": "python",
   "nbconvert_exporter": "python",
   "pygments_lexer": "ipython3",
   "version": "3.11.9"
  }
 },
 "nbformat": 4,
 "nbformat_minor": 5
}
